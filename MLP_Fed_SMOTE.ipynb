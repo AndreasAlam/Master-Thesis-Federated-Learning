{
 "cells": [
  {
   "cell_type": "markdown",
   "metadata": {},
   "source": [
    "# Federated Multi Layer Perceptron using PyTorch"
   ]
  },
  {
   "cell_type": "code",
   "execution_count": 2,
   "metadata": {},
   "outputs": [],
   "source": [
    "import random\n",
    "import warnings\n",
    "\n",
    "import numpy\n",
    "from numpy import genfromtxt\n",
    "\n",
    "import syft as sy\n",
    "import torch as th\n",
    "import pandas as pd\n",
    "import matplotlib.pyplot as plt\n",
    "\n",
    "from torch import nn, optim\n",
    "import torch.nn.functional as F\n",
    "from torch.utils.data import TensorDataset, DataLoader\n",
    "\n",
    "from sklearn import metrics\n",
    "from sklearn.metrics import confusion_matrix\n",
    "from sklearn.preprocessing import StandardScaler\n",
    "from sklearn.metrics import average_precision_score\n",
    "from sklearn.model_selection import train_test_split"
   ]
  },
  {
   "cell_type": "markdown",
   "metadata": {},
   "source": [
    "Hook that extends the Pytorch library to enable all computations with pointers of tensors sent to other workers"
   ]
  },
  {
   "cell_type": "code",
   "execution_count": 3,
   "metadata": {},
   "outputs": [
    {
     "data": {
      "text/plain": [
       "False"
      ]
     },
     "execution_count": 3,
     "metadata": {},
     "output_type": "execute_result"
    }
   ],
   "source": [
    "hook = sy.TorchHook(th)\n",
    "th.cuda.is_available()"
   ]
  },
  {
   "cell_type": "markdown",
   "metadata": {},
   "source": [
    "### Pre-processing of the data"
   ]
  },
  {
   "cell_type": "code",
   "execution_count": 4,
   "metadata": {},
   "outputs": [
    {
     "name": "stdout",
     "output_type": "stream",
     "text": [
      "(170883, 29)\n",
      "(56962, 29)\n"
     ]
    }
   ],
   "source": [
    "df = pd.read_csv(\"creditcard.csv\")\n",
    "df.head()\n",
    "\n",
    "# Feature scaling \n",
    "df['normalizedAmount'] = StandardScaler().fit_transform(df['Amount'].values.reshape(-1,1))\n",
    "df = df.drop(['Amount'],axis=1)\n",
    "df = df.drop(['Time'],axis=1)\n",
    "\n",
    "# Split the data into training and test set\n",
    "X = df.iloc[:, df.columns != 'Class']\n",
    "y = df.iloc[:, df.columns == 'Class']\n",
    "\n",
    "X_train, X_test, y_train, y_test = train_test_split(X, y, test_size = 0.2, random_state=42, shuffle=False)\n",
    "X_train, X_val, y_train, y_val = train_test_split(X_train, y_train, test_size = 0.25, random_state=42, shuffle=False)\n",
    "\n",
    "print(X_train.shape)\n",
    "print(X_test.shape)"
   ]
  },
  {
   "cell_type": "markdown",
   "metadata": {},
   "source": [
    "Turning the data into PyTorch format"
   ]
  },
  {
   "cell_type": "code",
   "execution_count": 5,
   "metadata": {},
   "outputs": [],
   "source": [
    "# Converting to PyTorch tensors\n",
    "y_train_tensor = th.tensor(y_train.values).float()\n",
    "X_train_tensor = th.tensor(X_train.values).float()\n",
    "y_test_tensor = th.tensor(y_test.values).float()\n",
    "X_test_tensor = th.tensor(X_test.values).float()\n",
    "y_val_tensor = th.tensor(y_val.values).float()\n",
    "X_val_tensor = th.tensor(X_val.values).float()\n",
    "\n",
    "# Converting to tensor dataset\n",
    "#train = TensorDataset(X_train_tensor, y_train_tensor)\n",
    "test = TensorDataset(X_test_tensor, y_test_tensor)\n",
    "val = TensorDataset(X_val_tensor, y_val_tensor)\n",
    "\n",
    "# Converting to dataloaders \n",
    "# (, drop_last=True)\n",
    "test_loader = DataLoader(test, batch_size=32)\n",
    "val_loader = DataLoader(val, batch_size = 32)"
   ]
  },
  {
   "cell_type": "markdown",
   "metadata": {},
   "source": [
    "### Enable the FL setting"
   ]
  },
  {
   "cell_type": "markdown",
   "metadata": {},
   "source": [
    "Creating virtual workers"
   ]
  },
  {
   "cell_type": "code",
   "execution_count": 6,
   "metadata": {},
   "outputs": [],
   "source": [
    "client1 = sy.VirtualWorker(hook, id='client_1')\n",
    "client2 = sy.VirtualWorker(hook, id='client_2')\n",
    "client3 = sy.VirtualWorker(hook, id='client_3')\n",
    "client4 = sy.VirtualWorker(hook, id='client_4')\n",
    "secure_worker = sy.VirtualWorker(hook, id='secure_worker')"
   ]
  },
  {
   "cell_type": "code",
   "execution_count": 7,
   "metadata": {},
   "outputs": [
    {
     "data": {
      "text/plain": [
       "{}"
      ]
     },
     "execution_count": 7,
     "metadata": {},
     "output_type": "execute_result"
    }
   ],
   "source": [
    "client1._objects"
   ]
  },
  {
   "cell_type": "markdown",
   "metadata": {},
   "source": [
    "Federated Data Loader"
   ]
  },
  {
   "cell_type": "code",
   "execution_count": 8,
   "metadata": {},
   "outputs": [
    {
     "name": "stdout",
     "output_type": "stream",
     "text": [
      "Client 1: 0, Client 2: 0, Client 3: 0, Client 4: 0\n"
     ]
    }
   ],
   "source": [
    "print('Client 1: {}, Client 2: {}, Client 3: {}, Client 4: {}'.format(len(client1._objects), \n",
    "                                                                      len(client2._objects), \n",
    "                                                                      len(client3._objects), \n",
    "                                                                      len(client4._objects)))"
   ]
  },
  {
   "cell_type": "markdown",
   "metadata": {},
   "source": [
    "### SMOTE"
   ]
  },
  {
   "cell_type": "code",
   "execution_count": 9,
   "metadata": {},
   "outputs": [
    {
     "name": "stderr",
     "output_type": "stream",
     "text": [
      "Using TensorFlow backend.\n"
     ]
    }
   ],
   "source": [
    "from imblearn.over_sampling import SMOTE\n",
    "sm = SMOTE(0.01, random_state=42)\n",
    "l = len(X_train_tensor)\n",
    "\n",
    "X_train_1, y_train_1 = sm.fit_resample(X_train_tensor[:int(l*0.2)], y_train_tensor[:int(l*0.2)])\n",
    "X_train_tensor_1 = th.tensor(X_train_1)\n",
    "y_train_tensor_1 = th.tensor(y_train_1)\n",
    "\n",
    "X_train_2, y_train_2 = sm.fit_resample(X_train_tensor[int(l*0.2):int(l*0.5)], y_train_tensor[int(l*0.2):int(l*0.5)])\n",
    "X_train_tensor_2 = th.tensor(X_train_2)\n",
    "y_train_tensor_2 = th.tensor(y_train_2)\n",
    "\n",
    "X_train_3, y_train_3 = sm.fit_resample(X_train_tensor[int(l*0.5):int(l*0.6)], y_train_tensor[int(l*0.5):int(l*0.6)])\n",
    "X_train_tensor_3 = th.tensor(X_train_3)\n",
    "y_train_tensor_3 = th.tensor(y_train_3)\n",
    "\n",
    "X_train_4, y_train_4 = sm.fit_resample(X_train_tensor[int(l*0.6):], y_train_tensor[int(l*0.6):])\n",
    "X_train_tensor_4 = th.tensor(X_train_4)\n",
    "y_train_tensor_4 = th.tensor(y_train_4)\n"
   ]
  },
  {
   "cell_type": "code",
   "execution_count": 10,
   "metadata": {},
   "outputs": [],
   "source": [
    "client1_dataset = sy.BaseDataset(X_train_tensor_1, y_train_tensor_1).send(client1)\n",
    "client2_dataset = sy.BaseDataset(X_train_tensor_2, y_train_tensor_2).send(client2)\n",
    "client3_dataset = sy.BaseDataset(X_train_tensor_3, y_train_tensor_3).send(client3)\n",
    "client4_dataset = sy.BaseDataset(X_train_tensor_4, y_train_tensor_4).send(client4)"
   ]
  },
  {
   "cell_type": "code",
   "execution_count": 11,
   "metadata": {},
   "outputs": [],
   "source": [
    "all_clients = [client1_dataset, client2_dataset, client3_dataset, client4_dataset]\n",
    "federated_dataset = sy.FederatedDataset(all_clients)"
   ]
  },
  {
   "cell_type": "code",
   "execution_count": 12,
   "metadata": {},
   "outputs": [
    {
     "data": {
      "text/plain": [
       "(Wrapper)>[PointerTensor | me:19551667269 -> client_1:39586199809]"
      ]
     },
     "execution_count": 12,
     "metadata": {},
     "output_type": "execute_result"
    }
   ],
   "source": [
    "# The .federated method splits the dataset in two parts and send them to the virtual workers. \n",
    "# This federated dataset is now given to a Federated DataLoader which will iterate over remote batches.\n",
    "federated_train_loader = sy.FederatedDataLoader(federated_dataset, batch_size=256, shuffle=True)\n",
    "\n",
    "# Check that our trainloader returns a pointer to a batch, and that transformations are applied\n",
    "data, labels = next(iter(federated_train_loader))\n",
    "data\n"
   ]
  },
  {
   "cell_type": "markdown",
   "metadata": {},
   "source": [
    "### Creating the model and evaluation"
   ]
  },
  {
   "cell_type": "code",
   "execution_count": 13,
   "metadata": {},
   "outputs": [],
   "source": [
    "# A class for the MLP model with 3 layers (1 input, 1 hidden and 1 output)\n",
    "\n",
    "class Net(nn.Module):\n",
    "    def __init__(self):\n",
    "        super(Net, self).__init__()\n",
    "        self.input = nn.Linear(29,15)\n",
    "        self.hidden = nn.Linear(15,15)\n",
    "        self.output = nn.Linear(15, 1)\n",
    "\n",
    "    def forward(self, x):\n",
    "        x = F.relu(self.input(x))\n",
    "        x = F.relu(self.hidden(x))\n",
    "        x = th.sigmoid(self.output(x))\n",
    "        return x"
   ]
  },
  {
   "cell_type": "markdown",
   "metadata": {},
   "source": [
    "### Functions to train the model in a federated learning setting"
   ]
  },
  {
   "cell_type": "code",
   "execution_count": 14,
   "metadata": {},
   "outputs": [],
   "source": [
    "def client_model_optimizer(client, model):\n",
    "    \"\"\" Copy the global model and send it to a client and also initialize the optimizer for this client. \n",
    "    IN: client\n",
    "    OUT: client_model, client_opt\n",
    "    \"\"\"\n",
    "    # Copy the model and send it to client 'no.'\n",
    "    client_model = model.copy().send(client)\n",
    "\n",
    "    # Initialize the optimizers, the learnable parameters of a model are returned by net.parameters\n",
    "    client_opt = optim.SGD(params=client_model.parameters(), lr=0.02)\n",
    "    \n",
    "    return client_model, client_opt"
   ]
  },
  {
   "cell_type": "code",
   "execution_count": 15,
   "metadata": {},
   "outputs": [],
   "source": [
    "def train_each_client(client_opt, client_model, data, target):\n",
    "    \"\"\"  1. Zero out the gradients\n",
    "         2. Make a forward pass\n",
    "         3. Calculate the loss with BCE loss \n",
    "         4. Backpropagate\n",
    "         5. Make an optimizer step to update the weights \n",
    "         6. Get the loss\n",
    "    IN: Optimizer, model, data and target for each batch\n",
    "    OUT: Updated model, loss and optimizer\n",
    "    \"\"\"  \n",
    "\n",
    "    client_opt.zero_grad()\n",
    "    client_output = client_model.forward(data)\n",
    "    client_loss = criterion(client_output, target)\n",
    "    client_loss.backward()\n",
    "    client_opt.step()\n",
    "    client_loss = client_loss.get().data\n",
    "    \n",
    "    return client_model, client_loss, client_opt"
   ]
  },
  {
   "cell_type": "code",
   "execution_count": 16,
   "metadata": {},
   "outputs": [],
   "source": [
    "def push_data_to_central_server(client_models, model):\n",
    "    \"\"\" Pushing the data from each client to the central server and then taking an average of these.\n",
    "    IN: client_models (list of each clients model)\n",
    "    OUT: model \n",
    "    \"\"\"\n",
    "    no_clients = len(client_models)\n",
    "    \n",
    "    sum_input_weight_data = 0\n",
    "    sum_input_bias_data = 0\n",
    "    \n",
    "    sum_hidden_weight_data = 0\n",
    "    sum_hidden_bias_data = 0\n",
    "    \n",
    "    sum_output_weight_data = 0\n",
    "    sum_output_bias_data = 0\n",
    "    \n",
    "    # Extract each client and its model respectively\n",
    "    for client in client_models:\n",
    "        client.get()\n",
    "        \n",
    "        sum_input_weight_data += client.input.weight.data\n",
    "        sum_input_bias_data += client.input.bias.data\n",
    "\n",
    "        sum_hidden_weight_data += client.hidden.weight.data\n",
    "        sum_hidden_bias_data += client.hidden.bias.data\n",
    "\n",
    "        sum_output_weight_data += client.output.weight.data\n",
    "        sum_output_bias_data += client.output.bias.data\n",
    "            \n",
    "    with th.no_grad():\n",
    "        model.input.weight.set_(sum_input_weight_data / no_clients)\n",
    "        model.input.bias.set_(sum_input_bias_data / no_clients)\n",
    "\n",
    "        model.hidden.weight.set_(sum_hidden_weight_data / no_clients)\n",
    "        model.hidden.bias.set_(sum_hidden_bias_data / no_clients) \n",
    "\n",
    "        model.output.weight.set_(sum_output_weight_data / no_clients)\n",
    "        model.output.bias.set_(sum_output_bias_data / no_clients)\n",
    "    \n",
    "    return model"
   ]
  },
  {
   "cell_type": "code",
   "execution_count": 17,
   "metadata": {},
   "outputs": [],
   "source": [
    "def loss_curve(train_loss, val_loss, epochs):\n",
    "    \"\"\" Plot loss against epochs.\n",
    "    IN: train_loss (list float), val_loss (list float), epochs (list int)\n",
    "    OUT: - \n",
    "    \"\"\"\n",
    "    plt.plot(train_loss)\n",
    "    plt.plot(val_loss)\n",
    "    plt.title('model loss')\n",
    "    plt.ylabel('loss')\n",
    "    plt.xlabel('epoch')\n",
    "    plt.legend(['train', 'val'], loc='upper left')\n",
    "    plt.show()\n",
    "    "
   ]
  },
  {
   "cell_type": "code",
   "execution_count": 18,
   "metadata": {},
   "outputs": [],
   "source": [
    "def loss_prob_model(model, loader, X_tensor):\n",
    "    \"\"\" Computes the loss and probabilities in order to compute the AUPCR score.\n",
    "    IN: model, loader (either test- or validation), X_tensor (tensor for either test- or validation)\n",
    "    OUT: output_list (a list of probabilities)\n",
    "    \"\"\"\n",
    "    model.eval()\n",
    "    loss = 0\n",
    "    output_list =[]\n",
    "    \n",
    "    for data, target in loader:\n",
    "        output = model(data)\n",
    "        loss += F.binary_cross_entropy(output, target, reduction='sum').item()\n",
    "        output_list.append(output)\n",
    "    loss /= len(X_tensor)\n",
    "    print('Average loss: {:.8f}'.format(loss))\n",
    "    return output_list"
   ]
  },
  {
   "cell_type": "code",
   "execution_count": 19,
   "metadata": {},
   "outputs": [],
   "source": [
    "def prediciton_model(model, y, loader, X_tensor):\n",
    "    \"\"\" Test the model on the validation set every 10:th epoch.\n",
    "    IN: model, y (dataframe: either test- or validationset), loader (either test- or validation), \n",
    "    X_tensor (tensor for either test- or validation)\n",
    "    OUT: y_pred_numpy\n",
    "    \"\"\"\n",
    "    probabilities = loss_prob_model(model, loader, X_tensor)\n",
    "    \n",
    "    y_pred = th.cat(probabilities)\n",
    "    y_pred_numpy = y_pred.detach().numpy() \n",
    "    y_pred_binary = (y_pred_numpy > 0.5)\n",
    "    \n",
    "    aupcr = average_precision_score(y, y_pred_numpy)\n",
    "    \n",
    "    print('AUPCR score: ' + str(aupcr))\n",
    "    \n",
    "    cm = confusion_matrix(y, y_pred_binary)\n",
    "    print(cm)\n",
    "    \n",
    "    return y_pred_numpy"
   ]
  },
  {
   "cell_type": "code",
   "execution_count": 20,
   "metadata": {},
   "outputs": [],
   "source": [
    "def compute_aupcr(y, y_pred_numpy, txt_plot):\n",
    "    \"\"\" A function to plot the AUPCR curve.\n",
    "    IN: y (dataframe: either test- or validationset), y_pred_numpy (numpy: either test- or validationset)\n",
    "    OUT: -\n",
    "    \"\"\"\n",
    "\n",
    "    fpr, tpr, threshold = metrics.precision_recall_curve(y,  y_pred_numpy)\n",
    "    roc_auc = average_precision_score(y, y_pred_numpy)\n",
    "\n",
    "    plt.title('Precision recall')\n",
    "    plt.plot(fpr, tpr, 'b', label = 'AUC = %0.2f' % roc_auc)\n",
    "    plt.legend(loc = 'lower right')\n",
    "    plt.plot([0, 1], [0, 1],'r--')\n",
    "    plt.xlim([-0.1, 1])\n",
    "    plt.ylim([0, 1.1])\n",
    "    plt.ylabel('True Positive Rate (TPR)')\n",
    "    plt.xlabel('False Positive Rate (FPR)')\n",
    "    plt.savefig(txt_plot)\n",
    "    plt.show()"
   ]
  },
  {
   "cell_type": "code",
   "execution_count": 21,
   "metadata": {},
   "outputs": [],
   "source": [
    "def training(all_clients, model, federated_loader, y_val, loader, X_tensor, epoch=60, C=1, local_iterations=1):\n",
    "    \"\"\" Training the global model by using the clients local training. \n",
    "    IN: clients (list), model, federated_loader (federated data loader), \n",
    "    y_val (pandas dataframe), epoch (int), local_iterations (int)\n",
    "    OUT: - \n",
    "    \"\"\"\n",
    "    #nbr_local_iter = 0\n",
    "    nbr_epoch = 0 \n",
    "    \n",
    "    # Number of local epochs for the central model on each client\n",
    "    for round_iter in range(epoch):\n",
    "        nbr_epoch += 1\n",
    "        nbr_local_iter = 0\n",
    "        \n",
    "        # Creating a list to store each clients model and optimizer\n",
    "        clients = random.sample(all_clients, C)\n",
    "        client_models = [0]*len(clients) \n",
    "        client_opt = [0]*len(clients) \n",
    "        client_loss = [0]*len(clients)\n",
    "        \n",
    "        # Copying the model and getting an optimizer for each client and store them in the lists\n",
    "        for idx, client in enumerate(clients):\n",
    "            client_mod, client_optimizer = client_model_optimizer(client, model)\n",
    "            client_models[idx] = client_mod\n",
    "            client_opt[idx] = client_optimizer\n",
    "\n",
    "        # Train the models and average them\n",
    "        for i in range(local_iterations):\n",
    "            nbr_local_iter += 1 \n",
    "            \n",
    "            # Iteration over each batch \n",
    "            for (data, target) in federated_loader:\n",
    "                \n",
    "                for idx, client in enumerate(clients):\n",
    "                    # Run through each client to see which one fits \n",
    "                    if data.location == client:\n",
    "                        client_model, client_loss, client_optimizer = train_each_client(client_opt[idx], client_models[idx], data, target)\n",
    "                        #print('client_loss type: ', type(client_loss))\n",
    "                        #print('client_loss: ', client_loss)\n",
    "                        client_models[idx] = client_model\n",
    "                        #client_loss[idx] = client_loss.item()\n",
    "                        client_opt[idx] = client_optimizer\n",
    "            \n",
    "            # Predictions for each local iteration\n",
    "            # print('Local iteration: ', nbr_local_iter)\n",
    "            # prediciton_model(model, y_val, loader, X_tensor)\n",
    "\n",
    "                \n",
    "            #print(\"Number of local iterations: \", nbr_local_iter)\n",
    "\n",
    "        #print(\"Total number of epochs: \", nbr_epoch)\n",
    "        \n",
    "        # Evaluate the model after every 5:th epoch\n",
    "        if nbr_epoch % 5 == 0:\n",
    "            print('Epoch: ', nbr_epoch)\n",
    "            #prediciton_model(model, y_val, loader, X_tensor)\n",
    "            \n",
    "        # Pushing the data from each client to the central server and averaging these (we are not using secure worker yet)\n",
    "        model = push_data_to_central_server(client_models, model)\n",
    "            \n",
    "        secure_worker.clear_objects()\n",
    "\n",
    "        #print(\"Client 1:\" + str(client_loss[0]) + \" Client 2:\" + str(client_loss[1]))"
   ]
  },
  {
   "cell_type": "markdown",
   "metadata": {},
   "source": [
    "### Create and train the model on the validationset"
   ]
  },
  {
   "cell_type": "code",
   "execution_count": 22,
   "metadata": {},
   "outputs": [
    {
     "name": "stderr",
     "output_type": "stream",
     "text": [
      "/opt/anaconda3/lib/python3.7/site-packages/syft-0.2.3-py3.7.egg/syft/frameworks/torch/tensors/interpreters/native.py:346: UserWarning: Using a target size (torch.Size([256])) that is different to the input size (torch.Size([256, 1])) is deprecated. Please ensure they have the same size.\n",
      "/opt/anaconda3/lib/python3.7/site-packages/syft-0.2.3-py3.7.egg/syft/frameworks/torch/tensors/interpreters/native.py:346: UserWarning: Using a target size (torch.Size([109])) that is different to the input size (torch.Size([109, 1])) is deprecated. Please ensure they have the same size.\n",
      "/opt/anaconda3/lib/python3.7/site-packages/syft-0.2.3-py3.7.egg/syft/frameworks/torch/tensors/interpreters/native.py:346: UserWarning: Using a target size (torch.Size([219])) that is different to the input size (torch.Size([219, 1])) is deprecated. Please ensure they have the same size.\n",
      "/opt/anaconda3/lib/python3.7/site-packages/syft-0.2.3-py3.7.egg/syft/frameworks/torch/tensors/interpreters/native.py:346: UserWarning: Using a target size (torch.Size([43])) that is different to the input size (torch.Size([43, 1])) is deprecated. Please ensure they have the same size.\n",
      "/opt/anaconda3/lib/python3.7/site-packages/syft-0.2.3-py3.7.egg/syft/frameworks/torch/tensors/interpreters/native.py:346: UserWarning: Using a target size (torch.Size([79])) that is different to the input size (torch.Size([79, 1])) is deprecated. Please ensure they have the same size.\n"
     ]
    },
    {
     "name": "stdout",
     "output_type": "stream",
     "text": [
      "Epoch:  5\n",
      "Epoch:  10\n",
      "Epoch:  15\n",
      "Epoch:  20\n",
      "Epoch:  25\n",
      "Epoch:  30\n",
      "Epoch:  35\n"
     ]
    }
   ],
   "source": [
    "model = Net()\n",
    "criterion = nn.BCELoss()\n",
    "all_clients = [client1, client2, client3, client4]\n",
    "training(all_clients, model, federated_train_loader, y_val, val_loader, X_val_tensor, epoch=35, C=3, local_iterations=3)"
   ]
  },
  {
   "cell_type": "markdown",
   "metadata": {},
   "source": [
    "### Test set"
   ]
  },
  {
   "cell_type": "code",
   "execution_count": 23,
   "metadata": {},
   "outputs": [
    {
     "name": "stdout",
     "output_type": "stream",
     "text": [
      "Average loss: 0.00372615\n",
      "AUPCR score: 0.8077175837749175\n",
      "[[56870    17]\n",
      " [   18    57]]\n"
     ]
    },
    {
     "data": {
      "image/png": "[encoded data removed]",
      "text/plain": [
       "<Figure size 432x288 with 1 Axes>"
      ]
     },
     "metadata": {
      "needs_background": "light"
     },
     "output_type": "display_data"
    }
   ],
   "source": [
    "y_pred_numpy = prediciton_model(model, y_test, test_loader, X_test_tensor)\n",
    "numpy.savetxt(\"SMOTE_C3_loc3.csv\", y_pred_numpy, delimiter=\",\")\n",
    "\n",
    "txt_plot = 'SMOTE_AUPCR_C3_loc3.png'\n",
    "compute_aupcr(y_test, y_pred_numpy, txt_plot)"
   ]
  },
  {
   "cell_type": "markdown",
   "metadata": {},
   "source": [
    "### Validation set"
   ]
  },
  {
   "cell_type": "code",
   "execution_count": 24,
   "metadata": {},
   "outputs": [
    {
     "name": "stdout",
     "output_type": "stream",
     "text": [
      "Average loss: 0.00386197\n",
      "AUPCR score: 0.7933123967629698\n",
      "[[56884    21]\n",
      " [   12    45]]\n"
     ]
    },
    {
     "data": {
      "image/png": "[encoded data removed]",
      "text/plain": [
       "<Figure size 432x288 with 1 Axes>"
      ]
     },
     "metadata": {
      "needs_background": "light"
     },
     "output_type": "display_data"
    }
   ],
   "source": [
    "y_pred_numpy = prediciton_model(model, y_val, val_loader, X_val_tensor)\n",
    "numpy.savetxt(\"SMOTE_C3_loc3_val.csv\", y_pred_numpy, delimiter=\",\")\n",
    "\n",
    "txt_plot = 'SMOTE_AUPCR_C3_loc3_val.png'\n",
    "compute_aupcr(y_val, y_pred_numpy, txt_plot)"
   ]
  },
  {
   "cell_type": "markdown",
   "metadata": {},
   "source": [
    "### Plot different AUC score against each other "
   ]
  },
  {
   "cell_type": "code",
   "execution_count": 25,
   "metadata": {},
   "outputs": [],
   "source": [
    "def compute_multiple_aupcr(y, collection_csv_files, txt_plot, legend):\n",
    "    \"\"\" A function to plot several of AUPCR curve.\n",
    "    IN: y (dataframe: either test- or validationset), collectio_csv_file (list of all y_pred_numpy)\n",
    "    OUT: -\n",
    "    \"\"\"\n",
    "\n",
    "    for index, y_pred in enumerate(collection_csv_files):\n",
    "        fpr, tpr, threshold = metrics.precision_recall_curve(y,  y_pred)\n",
    "        roc_auc = average_precision_score(y, y_pred)\n",
    "        plt.plot(fpr, tpr, label = legend[index] + 'AUC = %0.2f' % roc_auc)\n",
    "    \n",
    "    plt.title('Precision recall')\n",
    "    plt.legend(loc = 'lower right')\n",
    "    plt.plot([0, 1], [0, 1],'r--')\n",
    "    plt.xlim([-0.1, 1])\n",
    "    plt.ylim([0, 1.1])\n",
    "    plt.ylabel('True Positive Rate (TPR)')\n",
    "    plt.xlabel('False Positive Rate (FPR)')\n",
    "    plt.savefig(txt_plot)\n",
    "    plt.show()"
   ]
  },
  {
   "cell_type": "markdown",
   "metadata": {},
   "source": [
    "Same number of random clients"
   ]
  },
  {
   "cell_type": "code",
   "execution_count": 26,
   "metadata": {},
   "outputs": [],
   "source": [
    "C_2_loc_2 = genfromtxt('SMOTE_C2_loc2.csv', delimiter=',')\n",
    "C_2_loc_3 = genfromtxt('SMOTE_C2_loc3.csv', delimiter=',')\n",
    "C2 = [C_2_loc_2, C_2_loc_3]\n",
    "\n",
    "C_3_loc_2 = genfromtxt('SMOTE_C3_loc2.csv', delimiter=',')\n",
    "C_3_loc_3 = genfromtxt('SMOTE_C3_loc3.csv', delimiter=',')\n",
    "C3 = [C_3_loc_2, C_3_loc_3]\n",
    "\n",
    "C_4_loc_2 = genfromtxt('SMOTE_C4_loc2.csv', delimiter=',')\n",
    "C_4_loc_3 = genfromtxt('SMOTE_C4_loc3.csv', delimiter=',')\n",
    "C4 = [C_4_loc_2, C_4_loc_3]\n",
    "\n",
    "legend_loc_it = ['2 loc. it.', '3 loc. it.']"
   ]
  },
  {
   "cell_type": "code",
   "execution_count": 27,
   "metadata": {},
   "outputs": [
    {
     "data": {
      "image/png": "[encoded data removed]",
      "text/plain": [
       "<Figure size 432x288 with 1 Axes>"
      ]
     },
     "metadata": {
      "needs_background": "light"
     },
     "output_type": "display_data"
    }
   ],
   "source": [
    "# 2 random clients\n",
    "txt_plot = 'SMOTE_C2.png'\n",
    "compute_multiple_aupcr(y_test, C2, txt_plot, legend_loc_it)"
   ]
  },
  {
   "cell_type": "code",
   "execution_count": 28,
   "metadata": {},
   "outputs": [
    {
     "data": {
      "image/png": "[encoded data removed]",
      "text/plain": [
       "<Figure size 432x288 with 1 Axes>"
      ]
     },
     "metadata": {
      "needs_background": "light"
     },
     "output_type": "display_data"
    }
   ],
   "source": [
    "# 3 random clients\n",
    "txt_plot = 'SMOTE_C3.png'\n",
    "compute_multiple_aupcr(y_test, C3, txt_plot, legend_loc_it)"
   ]
  },
  {
   "cell_type": "code",
   "execution_count": 29,
   "metadata": {},
   "outputs": [
    {
     "data": {
      "image/png": "[encoded data removed]",
      "text/plain": [
       "<Figure size 432x288 with 1 Axes>"
      ]
     },
     "metadata": {
      "needs_background": "light"
     },
     "output_type": "display_data"
    }
   ],
   "source": [
    "# 4 random clients\n",
    "txt_plot = 'SMOTE_C4.png'\n",
    "compute_multiple_aupcr(y_test, C4, txt_plot, legend_loc_it)"
   ]
  },
  {
   "cell_type": "markdown",
   "metadata": {},
   "source": [
    "Same number of local iterations"
   ]
  },
  {
   "cell_type": "code",
   "execution_count": 30,
   "metadata": {},
   "outputs": [],
   "source": [
    "C_2_loc_2 = genfromtxt('SMOTE_C2_loc2.csv', delimiter=',')\n",
    "C_3_loc_2 = genfromtxt('SMOTE_C3_loc2.csv', delimiter=',')\n",
    "C_4_loc_2 = genfromtxt('SMOTE_C4_loc2.csv', delimiter=',')\n",
    "loc_2 = [C_2_loc_2, C_3_loc_2, C_4_loc_2]\n",
    "\n",
    "C_2_loc_3 = genfromtxt('SMOTE_C2_loc3.csv', delimiter=',')\n",
    "C_3_loc_3 = genfromtxt('SMOTE_C3_loc3.csv', delimiter=',')\n",
    "C_4_loc_3 = genfromtxt('SMOTE_C4_loc3.csv', delimiter=',')\n",
    "loc_3 = [C_2_loc_3, C_3_loc_2, C_4_loc_3]\n",
    "\n",
    "legend_clients = ['2 rand. clients', '3 rand. clients', '4 rand. clients']"
   ]
  },
  {
   "cell_type": "code",
   "execution_count": 31,
   "metadata": {},
   "outputs": [
    {
     "data": {
      "image/png": "[encoded data removed]",
      "text/plain": [
       "<Figure size 432x288 with 1 Axes>"
      ]
     },
     "metadata": {
      "needs_background": "light"
     },
     "output_type": "display_data"
    }
   ],
   "source": [
    "# 2 local iterations\n",
    "txt_plot = 'SMOTE_loc2.png'\n",
    "compute_multiple_aupcr(y_test, loc_2, txt_plot, legend_clients)"
   ]
  },
  {
   "cell_type": "code",
   "execution_count": 32,
   "metadata": {},
   "outputs": [
    {
     "data": {
      "image/png": "[encoded data removed]",
      "text/plain": [
       "<Figure size 432x288 with 1 Axes>"
      ]
     },
     "metadata": {
      "needs_background": "light"
     },
     "output_type": "display_data"
    }
   ],
   "source": [
    "# 3 local iterations\n",
    "txt_plot = 'SMOTE_loc3.png'\n",
    "compute_multiple_aupcr(y_test, loc_3, txt_plot, legend_clients)"
   ]
  },
  {
   "cell_type": "code",
   "execution_count": null,
   "metadata": {},
   "outputs": [],
   "source": []
  },
  {
   "cell_type": "code",
   "execution_count": null,
   "metadata": {},
   "outputs": [],
   "source": []
  },
  {
   "cell_type": "code",
   "execution_count": null,
   "metadata": {},
   "outputs": [],
   "source": []
  },
  {
   "cell_type": "code",
   "execution_count": null,
   "metadata": {},
   "outputs": [],
   "source": []
  },
  {
   "cell_type": "code",
   "execution_count": 72,
   "metadata": {},
   "outputs": [
    {
     "name": "stdout",
     "output_type": "stream",
     "text": [
      "56962\n",
      "56962\n"
     ]
    }
   ],
   "source": [
    "\n",
    "\n",
    "data_1 = genfromtxt('file1.csv', delimiter=',')\n",
    "data_2 = genfromtxt('file2.csv', delimiter=',')\n",
    "\n",
    "collection_csv_files = [data_1, data_2]\n",
    "legend = ['2 loc. it.', '3 loc. it.']\n",
    "txt_plot = 'test_all.png'\n",
    "compute_aupcr(y_test, collection_csv_files, txt_plot, legend)"
   ]
  },
  {
   "cell_type": "code",
   "execution_count": 80,
   "metadata": {},
   "outputs": [
    {
     "data": {
      "image/png": "[encoded data removed]",
      "text/plain": [
       "<Figure size 432x288 with 1 Axes>"
      ]
     },
     "metadata": {
      "needs_background": "light"
     },
     "output_type": "display_data"
    }
   ],
   "source": [
    "collection_csv_files = [my_data_1, my_data_2]\n",
    "legend = ['2 loc. it.', '3 loc. it.']\n",
    "txt_plot = 'test_all.png'\n",
    "compute_aupcr(y_test, collection_csv_files, txt_plot, legend)"
   ]
  },
  {
   "cell_type": "code",
   "execution_count": 67,
   "metadata": {},
   "outputs": [],
   "source": []
  },
  {
   "cell_type": "code",
   "execution_count": null,
   "metadata": {},
   "outputs": [],
   "source": []
  }
 ],
 "metadata": {
  "kernelspec": {
   "display_name": "Python 3",
   "language": "python",
   "name": "python3"
  },
  "language_info": {
   "codemirror_mode": {
    "name": "ipython",
    "version": 3
   },
   "file_extension": ".py",
   "mimetype": "text/x-python",
   "name": "python",
   "nbconvert_exporter": "python",
   "pygments_lexer": "ipython3",
   "version": "3.7.4"
  }
 },
 "nbformat": 4,
 "nbformat_minor": 4
}
