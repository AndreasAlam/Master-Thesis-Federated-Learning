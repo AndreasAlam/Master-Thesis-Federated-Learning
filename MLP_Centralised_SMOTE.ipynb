{
 "cells": [
  {
   "cell_type": "markdown",
   "metadata": {},
   "source": [
    "# Centralised Multi Layer Perceptron\n",
    "\n",
    "- Import nessecary libraries and frameworks\n",
    "- Data pre-processing\n",
    "- Multi Layer Perceptron"
   ]
  },
  {
   "cell_type": "code",
   "execution_count": 1,
   "metadata": {},
   "outputs": [
    {
     "name": "stderr",
     "output_type": "stream",
     "text": [
      "Using TensorFlow backend.\n"
     ]
    }
   ],
   "source": [
    "import warnings\n",
    "import syft as sy\n",
    "import numpy as np \n",
    "import pandas as pd\n",
    "from collections import Counter\n",
    "from imblearn.over_sampling import SMOTE\n",
    "\n",
    "import matplotlib.pyplot as plt\n",
    "import matplotlib.pyplot as plt; plt.rcdefaults()\n",
    "\n",
    "import sklearn.metrics as metrics\n",
    "from sklearn.metrics import confusion_matrix\n",
    "from sklearn.preprocessing import StandardScaler\n",
    "from sklearn.metrics import average_precision_score\n",
    "from sklearn.model_selection import train_test_split\n",
    "\n",
    "import torch as th\n",
    "from torch import nn, optim\n",
    "import torch.nn.functional as F\n",
    "from torch.utils.data import TensorDataset, DataLoader"
   ]
  },
  {
   "cell_type": "code",
   "execution_count": 2,
   "metadata": {},
   "outputs": [],
   "source": [
    "# Hook that extends the Pytorch library to enable all computations with pointers of tensors sent to other workers\n",
    "hook = sy.TorchHook(th)"
   ]
  },
  {
   "cell_type": "markdown",
   "metadata": {},
   "source": [
    "## Pre-processing the data"
   ]
  },
  {
   "cell_type": "code",
   "execution_count": 3,
   "metadata": {},
   "outputs": [
    {
     "name": "stdout",
     "output_type": "stream",
     "text": [
      "(170883, 29)\n",
      "(56962, 29)\n"
     ]
    }
   ],
   "source": [
    "df = pd.read_csv(\"creditcard.csv\")\n",
    "df.head()\n",
    "\n",
    "# Feature scaling \n",
    "df['normalizedAmount'] = StandardScaler().fit_transform(df['Amount'].values.reshape(-1,1))\n",
    "df = df.drop(['Amount'], axis=1)\n",
    "df = df.drop(['Time'], axis=1)\n",
    "\n",
    "# Split the data into training and test set\n",
    "X = df.iloc[:, df.columns != 'Class']\n",
    "y = df.iloc[:, df.columns == 'Class']\n",
    "\n",
    "# Splitting the data into train:test:validation as follows 60:20:20\n",
    "X_train, X_test, y_train, y_test = train_test_split(X, y, test_size = 0.2, random_state=42, shuffle=False)\n",
    "X_train, X_val, y_train, y_val = train_test_split(X_train, y_train, test_size = 0.25, random_state=42, shuffle=False)\n",
    "\n",
    "print(X_train.shape)\n",
    "print(X_test.shape)"
   ]
  },
  {
   "cell_type": "markdown",
   "metadata": {},
   "source": [
    "Turning the data into PyTorch format"
   ]
  },
  {
   "cell_type": "code",
   "execution_count": 4,
   "metadata": {},
   "outputs": [],
   "source": [
    "# Converting to PyTorch tensors\n",
    "y_train_tensor = th.tensor(y_train.values).float()\n",
    "X_train_tensor = th.tensor(X_train.values).float()\n",
    "y_test_tensor = th.tensor(y_test.values).float()\n",
    "X_test_tensor = th.tensor(X_test.values).float()\n",
    "y_val_tensor = th.tensor(y_val.values).float()\n",
    "X_val_tensor = th.tensor(X_val.values).float()\n",
    "\n",
    "# Converting to tensor dataset\n",
    "test = TensorDataset(X_test_tensor, y_test_tensor)\n",
    "val = TensorDataset(X_val_tensor, y_val_tensor)\n",
    "\n",
    "# Converting to dataloaders \n",
    "# (, drop_last=True)\n",
    "test_loader = DataLoader(test, batch_size=32)\n",
    "val_loader = DataLoader(val, batch_size=32)"
   ]
  },
  {
   "cell_type": "code",
   "execution_count": 5,
   "metadata": {},
   "outputs": [],
   "source": [
    "# Oversampling (only the train dataset) with 10%\n",
    "sm = SMOTE(0.01, random_state=42)\n",
    "\n",
    "X_train_SMOTE, y_train_SMOTE = sm.fit_resample(X_train, y_train)\n",
    "\n",
    "y_train_tensor_SMOTE = th.tensor(y_train_SMOTE.values).float()\n",
    "X_train_tensor_SMOTE = th.tensor(X_train_SMOTE.values).float()\n",
    "train_SMOTE = TensorDataset(X_train_tensor_SMOTE, y_train_tensor_SMOTE)\n",
    "train_loader_SMOTE = DataLoader(train_SMOTE, batch_size=256)"
   ]
  },
  {
   "cell_type": "code",
   "execution_count": 6,
   "metadata": {},
   "outputs": [
    {
     "name": "stdout",
     "output_type": "stream",
     "text": [
      "Train set:  Counter({0: 170567, 1: 1705})\n",
      "Test set:  Counter({0: 56864, 1: 98})\n",
      "Validation set:  Counter({0: 56884, 1: 78})\n"
     ]
    }
   ],
   "source": [
    "# See that train:test:val all contains fraudulent and non-fraudulent transactions\n",
    "print('Train set: ', Counter(y_train_SMOTE['Class']))\n",
    "print('Test set: ', Counter(y_test['Class']))\n",
    "print('Validation set: ', Counter(y_val['Class']))"
   ]
  },
  {
   "cell_type": "markdown",
   "metadata": {},
   "source": [
    "# MLP\n",
    "- Train the model\n",
    "- Validation set\n",
    "    - Prediction\n",
    "    - AUPCR curve\n",
    "    - Confusion matrix \n",
    "\n",
    "- Test set\n",
    "    - Prediction\n",
    "    - AUPCR curve\n",
    "    - Confusion matrix "
   ]
  },
  {
   "cell_type": "markdown",
   "metadata": {},
   "source": [
    "### Creating the model and evaluation"
   ]
  },
  {
   "cell_type": "code",
   "execution_count": 7,
   "metadata": {},
   "outputs": [],
   "source": [
    "class Net(nn.Module):\n",
    "    def __init__(self):\n",
    "        super(Net, self).__init__()\n",
    "        self.input = nn.Linear(29,15)\n",
    "        self.hidden = nn.Linear(15,15)\n",
    "        self.output = nn.Linear(15, 1)\n",
    "\n",
    "    def forward(self, x):\n",
    "        x = F.relu(self.input(x))\n",
    "        x = F.relu(self.hidden(x))\n",
    "        x = th.sigmoid(self.output(x))\n",
    "        return x"
   ]
  },
  {
   "cell_type": "markdown",
   "metadata": {},
   "source": [
    "### Functions to train and validate/test the model"
   ]
  },
  {
   "cell_type": "code",
   "execution_count": 9,
   "metadata": {},
   "outputs": [],
   "source": [
    "def training(model, optimizer, epochs, loader, train_loader, y, X_tensor):\n",
    "    \"\"\" Train the MLP model.\n",
    "    IN: optimizer, epochs (int), loader (data loader), train_loader (data loader), y (validation or test), X_tensor (validation or test)\n",
    "    OUT: -\n",
    "    \"\"\"\n",
    "    nbr_epochs = 0\n",
    "    \n",
    "    for e in range(epochs):\n",
    "        running_loss = 0\n",
    "        nbr_epochs += 1\n",
    "        \n",
    "        for x_load, y_load in train_loader:\n",
    "\n",
    "            # TODO: Training pass\n",
    "            optimizer.zero_grad()\n",
    "            output = model.forward(x_load)\n",
    "            loss = criterion(output, y_load)\n",
    "            loss.backward()\n",
    "            optimizer.step()\n",
    "\n",
    "            running_loss += loss.item()\n",
    "        #else:\n",
    "        #    print(f\"Training loss: {running_loss/len(loader)}\")\n",
    "        \n",
    "        # Evaluate the model after every n:th epoch\n",
    "        if nbr_epochs % 10 == 0:\n",
    "            print('Epoch: ', nbr_epochs)\n",
    "            prediciton_model(model, y, loader, X_tensor)\n",
    "            "
   ]
  },
  {
   "cell_type": "code",
   "execution_count": 10,
   "metadata": {},
   "outputs": [],
   "source": [
    "def prediciton_model(model, y, loader, X_tensor):\n",
    "    \"\"\" Test the model on the validation set every 10:th epoch.\n",
    "    IN: model, y (dataframe: either test- or validationset), loader (either test- or validation), \n",
    "    X_tensor (tensor for either test- or validation)\n",
    "    OUT: - \n",
    "    \"\"\"\n",
    "    probabilities = loss_prob_model(model, loader, X_tensor)\n",
    "    \n",
    "    y_pred = th.cat(probabilities)\n",
    "    y_pred_numpy = y_pred.detach().numpy() \n",
    "    y_pred_binary = (y_pred_numpy > 0.5)\n",
    "    \n",
    "    aupcr = average_precision_score(y, y_pred_numpy)\n",
    "    \n",
    "    print('AUPCR score: ' + str(aupcr))\n",
    "    \n",
    "    cm = confusion_matrix(y, y_pred_binary)\n",
    "    print(cm)"
   ]
  },
  {
   "cell_type": "code",
   "execution_count": 11,
   "metadata": {},
   "outputs": [],
   "source": [
    "def loss_prob_model(model, loader, X_tensor):\n",
    "    \"\"\" Computes the loss and probabilities in order to compute the AUPCR score.\n",
    "    IN: model, loader (either test- or validation), X_tensor (tensor for either test- or validation)\n",
    "    OUT: output_list (a list of probabilities)\n",
    "    \"\"\"\n",
    "    model.eval()\n",
    "    loss = 0\n",
    "    output_list =[]\n",
    "    \n",
    "    for data, target in loader:\n",
    "        output = model(data)\n",
    "        loss += F.binary_cross_entropy(output, target, reduction='sum').item()\n",
    "        output_list.append(output)\n",
    "    loss /= len(X_tensor)\n",
    "    print('Average loss: {:.8f}'.format(loss))\n",
    "    return output_list"
   ]
  },
  {
   "cell_type": "code",
   "execution_count": 12,
   "metadata": {},
   "outputs": [],
   "source": [
    "def aupcr_score(y, y_pred_numpy):\n",
    "    \"\"\" Computes the AUPCR score and illustrates it in a plot.\n",
    "    IN: y (array), y_pred_numpy (numpy array)\n",
    "    OUT:\n",
    "    \"\"\"\n",
    "    fpr, tpr, threshold = metrics.precision_recall_curve(y, y_pred_numpy)\n",
    "    aupcr = average_precision_score(y, y_pred_numpy)\n",
    "\n",
    "    plt.title('Area under Profile Curve ratio (AUPCR)')\n",
    "    plt.plot(fpr, tpr, 'b', label = 'AUC = %0.2f' % aupcr)\n",
    "    plt.legend(loc = 'lower right')\n",
    "    plt.plot([0, 1], [0, 1],'r--')\n",
    "    plt.xlim([-0.1, 1])\n",
    "    plt.ylim([0, 1.1])\n",
    "    plt.ylabel('Precision')\n",
    "    plt.xlabel('Recall')\n",
    "    #plt.savefig('name_to_save_fig_under.png')\n",
    "    plt.show()"
   ]
  },
  {
   "cell_type": "code",
   "execution_count": 13,
   "metadata": {},
   "outputs": [],
   "source": [
    "def conf_matrix(y, y_pred_num_bin):\n",
    "    \"\"\" Prints the confusion matrix, [TN, FP; FN, TP]\n",
    "    IN: y (array), y_pred_num_bin (binary numpy array)\n",
    "    OUT: -\n",
    "    \"\"\"\n",
    "    cm = confusion_matrix(y_test, y_pred_num_bin)\n",
    "    print(cm)"
   ]
  },
  {
   "cell_type": "markdown",
   "metadata": {},
   "source": [
    "### Train the model"
   ]
  },
  {
   "cell_type": "code",
   "execution_count": 14,
   "metadata": {},
   "outputs": [
    {
     "name": "stdout",
     "output_type": "stream",
     "text": [
      "Epoch:  10\n",
      "Average loss: 0.00301947\n",
      "AUPCR score: 0.724982660234411\n",
      "[[56879     5]\n",
      " [   56    22]]\n",
      "Epoch:  20\n",
      "Average loss: 0.00252151\n",
      "AUPCR score: 0.7545753437931679\n",
      "[[56877     7]\n",
      " [   17    61]]\n",
      "Epoch:  30\n",
      "Average loss: 0.00231024\n",
      "AUPCR score: 0.7740638540574959\n",
      "[[56877     7]\n",
      " [   16    62]]\n",
      "Epoch:  40\n",
      "Average loss: 0.00213485\n",
      "AUPCR score: 0.7964362264701025\n",
      "[[56877     7]\n",
      " [   15    63]]\n",
      "Epoch:  50\n",
      "Average loss: 0.00202907\n",
      "AUPCR score: 0.8051037072851117\n",
      "[[56876     8]\n",
      " [   15    63]]\n",
      "Epoch:  60\n",
      "Average loss: 0.00192335\n",
      "AUPCR score: 0.8224013707472609\n",
      "[[56877     7]\n",
      " [   14    64]]\n",
      "Epoch:  70\n",
      "Average loss: 0.00181821\n",
      "AUPCR score: 0.8380945808073773\n",
      "[[56878     6]\n",
      " [   14    64]]\n",
      "Epoch:  80\n",
      "Average loss: 0.00172875\n",
      "AUPCR score: 0.8531631827565229\n",
      "[[56877     7]\n",
      " [   14    64]]\n"
     ]
    }
   ],
   "source": [
    "model = Net()\n",
    "criterion = nn.BCELoss()\n",
    "optimizer = optim.SGD(model.parameters(), lr=0.02)\n",
    "\n",
    "training(model, optimizer, 80, val_loader, train_loader_SMOTE, y_val, X_val_tensor)"
   ]
  },
  {
   "cell_type": "markdown",
   "metadata": {},
   "source": [
    "### Validation set"
   ]
  },
  {
   "cell_type": "code",
   "execution_count": 15,
   "metadata": {},
   "outputs": [
    {
     "name": "stdout",
     "output_type": "stream",
     "text": [
      "Average loss: 0.03479762\n"
     ]
    }
   ],
   "source": [
    "# Predict the model on the test set\n",
    "pred_val = loss_prob_model(model, val_loader, X_val_tensor)\n",
    "\n",
    "# Concatenate pred_test\n",
    "y_pred_val = th.cat(pred_val)\n",
    "\n",
    "# Convert y_pred_test to a numpy array\n",
    "y_pred_val_num = y_pred_val.detach().numpy() \n",
    "\n",
    "# Making the array binary\n",
    "y_pred_num_val_bin = (y_pred_val_num > 0.5)"
   ]
  },
  {
   "cell_type": "markdown",
   "metadata": {},
   "source": [
    "#### Area under Profile Curve ratio (AUPCR) "
   ]
  },
  {
   "cell_type": "code",
   "execution_count": 16,
   "metadata": {},
   "outputs": [
    {
     "data": {
      "image/png": "[encoded data removed]",
      "text/plain": [
       "<Figure size 432x288 with 1 Axes>"
      ]
     },
     "metadata": {
      "needs_background": "light"
     },
     "output_type": "display_data"
    }
   ],
   "source": [
    "aupcr_score(y_val, y_pred_val_num)"
   ]
  },
  {
   "cell_type": "markdown",
   "metadata": {},
   "source": [
    "#### Confusion matrix"
   ]
  },
  {
   "cell_type": "code",
   "execution_count": 17,
   "metadata": {},
   "outputs": [
    {
     "name": "stdout",
     "output_type": "stream",
     "text": [
      "[[56014   850]\n",
      " [   95     3]]\n"
     ]
    }
   ],
   "source": [
    "conf_matrix(y_val, y_pred_num_val_bin)"
   ]
  },
  {
   "cell_type": "markdown",
   "metadata": {},
   "source": [
    "### Test set"
   ]
  },
  {
   "cell_type": "code",
   "execution_count": 18,
   "metadata": {},
   "outputs": [
    {
     "name": "stdout",
     "output_type": "stream",
     "text": [
      "Average loss: 0.03560057\n"
     ]
    }
   ],
   "source": [
    "# Predict the model on the test set\n",
    "pred_test = loss_prob_model(model, test_loader, X_test_tensor) \n",
    "\n",
    "# Concatenate pred_test\n",
    "y_pred_test = th.cat(pred_test)\n",
    "\n",
    "# Convert y_pred_test to a numpy array\n",
    "y_pred_test_num = y_pred_test.detach().numpy() \n",
    "\n",
    "# Making the array binary\n",
    "y_pred_num_test_bin = (y_pred_test_num > 0.5)"
   ]
  },
  {
   "cell_type": "markdown",
   "metadata": {},
   "source": [
    "#### Area under Profile Curve ratio (AUPCR) "
   ]
  },
  {
   "cell_type": "code",
   "execution_count": 19,
   "metadata": {},
   "outputs": [
    {
     "data": {
      "image/png": "[encoded data removed]",
      "text/plain": [
       "<Figure size 432x288 with 1 Axes>"
      ]
     },
     "metadata": {
      "needs_background": "light"
     },
     "output_type": "display_data"
    }
   ],
   "source": [
    "aupcr_score(y_test, y_pred_test_num)"
   ]
  },
  {
   "cell_type": "markdown",
   "metadata": {},
   "source": [
    "#### Confusion matrix"
   ]
  },
  {
   "cell_type": "code",
   "execution_count": 20,
   "metadata": {},
   "outputs": [
    {
     "name": "stdout",
     "output_type": "stream",
     "text": [
      "[[56065   799]\n",
      " [   10    88]]\n"
     ]
    }
   ],
   "source": [
    "conf_matrix(y_test, y_pred_num_test_bin)"
   ]
  },
  {
   "cell_type": "code",
   "execution_count": null,
   "metadata": {},
   "outputs": [],
   "source": []
  }
 ],
 "metadata": {
  "kernelspec": {
   "display_name": "Python 3",
   "language": "python",
   "name": "python3"
  },
  "language_info": {
   "codemirror_mode": {
    "name": "ipython",
    "version": 3
   },
   "file_extension": ".py",
   "mimetype": "text/x-python",
   "name": "python",
   "nbconvert_exporter": "python",
   "pygments_lexer": "ipython3",
   "version": "3.7.4"
  }
 },
 "nbformat": 4,
 "nbformat_minor": 4
}
